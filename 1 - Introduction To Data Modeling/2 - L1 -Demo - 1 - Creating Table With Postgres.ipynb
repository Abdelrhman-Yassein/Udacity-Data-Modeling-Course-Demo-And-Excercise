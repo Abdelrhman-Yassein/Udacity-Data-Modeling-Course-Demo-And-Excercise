{
 "cells": [
  {
   "cell_type": "code",
   "execution_count": 1,
   "id": "617577b3",
   "metadata": {},
   "outputs": [],
   "source": [
    "# Import Library\n",
    "import psycopg2 as ps"
   ]
  },
  {
   "cell_type": "code",
   "execution_count": 3,
   "id": "aba8251b",
   "metadata": {},
   "outputs": [],
   "source": [
    "#create connection to studentdb database\n",
    "try:\n",
    "    conn = ps.connect(\"host=127.0.0.1 dbname=studentdb user=postgres password=postgre\")\n",
    "except ps.Error as e:\n",
    "    print(\"Error : Could not make connection to database\")\n",
    "    print(e)"
   ]
  },
  {
   "cell_type": "code",
   "execution_count": 4,
   "id": "13ce496d",
   "metadata": {},
   "outputs": [],
   "source": [
    "# use connection to get cursor that can be used to execute query\n",
    "try:\n",
    "    cur = conn.cursor()\n",
    "except ps.Error as e:\n",
    "    print(\"Error : Could not get cursor to database\")\n",
    "    print(r)"
   ]
  },
  {
   "cell_type": "code",
   "execution_count": 5,
   "id": "dee73d06",
   "metadata": {},
   "outputs": [],
   "source": [
    "# Set Session Autocommit\n",
    "conn.set_session(autocommit=True)"
   ]
  },
  {
   "cell_type": "code",
   "execution_count": 6,
   "id": "e669bce3",
   "metadata": {},
   "outputs": [
    {
     "name": "stdout",
     "output_type": "stream",
     "text": [
      "relation \"udacity\" does not exist\n",
      "LINE 1: select * from udacity\n",
      "                      ^\n",
      "\n"
     ]
    }
   ],
   "source": [
    "# test the connection and errror handling\n",
    "try:\n",
    "    cur.execute(\"select * from udacity\")\n",
    "except ps.Error as e:\n",
    "    print(e)"
   ]
  },
  {
   "cell_type": "code",
   "execution_count": 8,
   "id": "55a558e8",
   "metadata": {},
   "outputs": [],
   "source": [
    "#create database to work on \n",
    "try:\n",
    "    cur.execute(\"create database udacity\")\n",
    "except ps.Error as e:\n",
    "    print(e)"
   ]
  },
  {
   "cell_type": "markdown",
   "id": "c498eeb4",
   "metadata": {},
   "source": [
    "### Close our connection to the default database, reconnect to the Udacity database, and get a new cursor."
   ]
  },
  {
   "cell_type": "code",
   "execution_count": 7,
   "id": "f813a477",
   "metadata": {},
   "outputs": [],
   "source": [
    "try:\n",
    "    conn.close()\n",
    "except ps.Error as e:\n",
    "    print(e)    "
   ]
  },
  {
   "cell_type": "code",
   "execution_count": 8,
   "id": "20a43d57",
   "metadata": {},
   "outputs": [],
   "source": [
    "try:\n",
    "    conn = ps.connect(\"host=127.0.0.1 dbname=udacity user=postgres password=postgre\")\n",
    "except ps.Error as e:\n",
    "    print(e)"
   ]
  },
  {
   "cell_type": "code",
   "execution_count": 9,
   "id": "35737cd7",
   "metadata": {},
   "outputs": [],
   "source": [
    "try:\n",
    "    cur = conn.cursor()\n",
    "except ps.Error as e:\n",
    "    print(e)"
   ]
  },
  {
   "cell_type": "code",
   "execution_count": 10,
   "id": "66f5a017",
   "metadata": {},
   "outputs": [],
   "source": [
    "conn.set_session(autocommit=True)"
   ]
  },
  {
   "cell_type": "markdown",
   "id": "ca74f5b2",
   "metadata": {},
   "source": [
    "### We will create a Music Library of albums. Each album has a lot of information we could add to the music library table. We will  start with album name, artist name, year. \n",
    "`Table Name: music_library\n",
    "column 1: Album Name\n",
    "column 2: Artist Name\n",
    "column 3: Year `\n",
    "### Translate this information into a Create Table Statement. \n",
    "\n"
   ]
  },
  {
   "cell_type": "code",
   "execution_count": 11,
   "id": "205fccc0",
   "metadata": {},
   "outputs": [],
   "source": [
    "try:\n",
    "    cur.execute(\"\"\"\n",
    "        create table if not exists music_library (album_name varchar,artist_name varchar,year int)\n",
    "    \"\"\")\n",
    "except ps.Error as e:\n",
    "    prinnt(\"Error: Issue Creating music_library Table\")\n",
    "    print(e)\n",
    "    "
   ]
  },
  {
   "cell_type": "code",
   "execution_count": 12,
   "id": "8b1139bb",
   "metadata": {},
   "outputs": [
    {
     "name": "stdout",
     "output_type": "stream",
     "text": [
      "[(0,)]\n"
     ]
    }
   ],
   "source": [
    "#check to ensure our table was created\n",
    "try:\n",
    "    cur.execute(\"select count(*) from music_library\")\n",
    "except ps.Error as e:\n",
    "    print(\"Error : Select count\")\n",
    "    print(e)\n",
    "print(cur.fetchall())    "
   ]
  },
  {
   "cell_type": "code",
   "execution_count": 14,
   "id": "01b3c2c9",
   "metadata": {},
   "outputs": [],
   "source": [
    "#Lets Insert two rows\n",
    "try:\n",
    "    cur.execute(\"\"\"insert into music_library(album_name,artist_name,year)\n",
    "                    values(%s,%s,%s)\n",
    "                    \"\"\",(\"Let It Be\",\"The Beatles\",1970))\n",
    "except ps.Error as e:\n",
    "    print(\"Error : Inserting Issue\")\n",
    "    print(e)\n",
    "\n",
    "try:\n",
    "    cur.execute(\"\"\"\n",
    "                insert into music_library(album_name,artist_name,year)\n",
    "                values(%s,%s,%s)\"\"\",(\"Rubber Soul\",\"The Beatles\",1965))\n",
    "except ps.Error as e:\n",
    "    print(\"Error : Insertin Issue\")\n",
    "    print(e)"
   ]
  },
  {
   "cell_type": "code",
   "execution_count": 16,
   "id": "df352bc2",
   "metadata": {},
   "outputs": [
    {
     "name": "stdout",
     "output_type": "stream",
     "text": [
      "('Let It Be', 'The Beatles', 1970)\n",
      "('Let It Be', 'The Beatles', 1970)\n",
      "('Rubber Soul', 'The Beatles', 1965)\n"
     ]
    }
   ],
   "source": [
    "#Select data inserted\n",
    "try:\n",
    "    cur.execute(\"select * from music_library\")\n",
    "    row = cur.fetchone()\n",
    "    while row:\n",
    "        print(row)\n",
    "        row = cur.fetchone()\n",
    "except ps.Error as e :\n",
    "    print(\"fetching rows\")\n",
    "    print(e)"
   ]
  },
  {
   "cell_type": "code",
   "execution_count": null,
   "id": "d97dfe37",
   "metadata": {},
   "outputs": [],
   "source": [
    "#close Cursor and Connection\n",
    "cur.close()\n",
    "conn.close()"
   ]
  }
 ],
 "metadata": {
  "kernelspec": {
   "display_name": "Python 3",
   "language": "python",
   "name": "python3"
  },
  "language_info": {
   "codemirror_mode": {
    "name": "ipython",
    "version": 3
   },
   "file_extension": ".py",
   "mimetype": "text/x-python",
   "name": "python",
   "nbconvert_exporter": "python",
   "pygments_lexer": "ipython3",
   "version": "3.8.8"
  }
 },
 "nbformat": 4,
 "nbformat_minor": 5
}
