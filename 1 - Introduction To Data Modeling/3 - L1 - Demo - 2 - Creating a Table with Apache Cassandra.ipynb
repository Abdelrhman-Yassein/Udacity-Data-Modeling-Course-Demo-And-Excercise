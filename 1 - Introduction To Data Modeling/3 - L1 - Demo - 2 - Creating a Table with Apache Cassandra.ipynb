{
 "cells": [
  {
   "cell_type": "code",
   "execution_count": 16,
   "id": "dc9cbc81",
   "metadata": {},
   "outputs": [],
   "source": [
    "# Import Apache Cassandra Python Package\n",
    "import cassandra\n",
    "from cassandra.cluster import Cluster"
   ]
  },
  {
   "cell_type": "code",
   "execution_count": 18,
   "id": "922000b4",
   "metadata": {},
   "outputs": [],
   "source": [
    "#Creaet Connection to Cassandra\n",
    "try:\n",
    "    cluster = Cluster(['127.0.0.1'])\n",
    "    session =cluster.connect()\n",
    "except Exception as e:\n",
    "    print(e)"
   ]
  },
  {
   "cell_type": "code",
   "execution_count": 19,
   "id": "1aed8fea",
   "metadata": {},
   "outputs": [
    {
     "name": "stdout",
     "output_type": "stream",
     "text": [
      "Error from server: code=2200 [Invalid query] message=\"No keyspace has been specified. USE a keyspace, or explicitly specify keyspace.tablename\"\n"
     ]
    }
   ],
   "source": [
    "#Test Connection\n",
    "try:\n",
    "    session.execute(\"select * from music_library\")\n",
    "except Exception as e:\n",
    "    print(e)"
   ]
  },
  {
   "cell_type": "code",
   "execution_count": 1,
   "id": "77e65268",
   "metadata": {},
   "outputs": [
    {
     "name": "stdout",
     "output_type": "stream",
     "text": [
      "name 'session' is not defined\n"
     ]
    }
   ],
   "source": [
    "# Create a Keyspace to do our Work on \n",
    "try:\n",
    "    session.execute(\"\"\"\n",
    "        CREATE KEYSPACE IF NOT EXISTS udacity\n",
    "        WITH REPLICATION = \n",
    "        {'class' : 'SimpleStrategy' , 'replication_factor' : 1}\n",
    "    \"\"\")\n",
    "except Exception as e:\n",
    "    print(e)"
   ]
  },
  {
   "cell_type": "code",
   "execution_count": 21,
   "id": "1427cf8f",
   "metadata": {},
   "outputs": [],
   "source": [
    "# Set keyspace to Udacity\n",
    "try:\n",
    "    session.set_keyspace(\"udacity\")\n",
    "except Exception as e:\n",
    "    print(e)"
   ]
  },
  {
   "cell_type": "code",
   "execution_count": 22,
   "id": "23f820e9",
   "metadata": {},
   "outputs": [],
   "source": [
    "# Create music_library Table\n",
    "query = \"\"\"\n",
    "        CREATE TABLE IF NOT EXISTS music_library \n",
    "        (year int,artist_name text,album_name text,PRIMARY KEY (year,artist_name))\n",
    "\"\"\"\n",
    "try:\n",
    "    session.execute(query)\n",
    "except Exception as e:\n",
    "    print(e)"
   ]
  },
  {
   "cell_type": "code",
   "execution_count": 23,
   "id": "83288d48",
   "metadata": {},
   "outputs": [
    {
     "name": "stdout",
     "output_type": "stream",
     "text": [
      "Row(count=0)\n"
     ]
    }
   ],
   "source": [
    "# validate Our Table\n",
    "query = \"select count(*) from music_library\"\n",
    "\n",
    "try:\n",
    "    count = session.execute(query)\n",
    "except Exception as e:\n",
    "    print(e)\n",
    "print(count.one())"
   ]
  },
  {
   "cell_type": "code",
   "execution_count": 25,
   "id": "8e13285e",
   "metadata": {},
   "outputs": [],
   "source": [
    "# insert some data to our music_library table\n",
    "query = \"\"\"\n",
    "    INSERT INTO music_library (artist_name,year,album_name)\n",
    "    VALUES (%s,%s,%s)\n",
    "\"\"\"\n",
    "try:\n",
    "    session.execute(query,(\"The Beatless\",1970,\"Let it Be\"))\n",
    "except Exception as e:\n",
    "    print(e)"
   ]
  },
  {
   "cell_type": "code",
   "execution_count": 9,
   "id": "058b92d3",
   "metadata": {},
   "outputs": [],
   "source": [
    "query = \"\"\"\n",
    "    INSERT INTO music_library (year,artist_name,album_name)\n",
    "    VALUES (%s,%s,%s)\n",
    "\"\"\"\n",
    "try:\n",
    "    session.execute(query,(1970,\"The Beatless\",\"Let it Be\"))\n",
    "except Exception as e:\n",
    "    print(e)\n",
    "\n",
    "try:\n",
    "    session.execute(query,(1965,\"The Beatles\",\"Rubber Soul\"))\n",
    "except Exception as e:\n",
    "    print(e)"
   ]
  },
  {
   "cell_type": "code",
   "execution_count": 26,
   "id": "71e19a91",
   "metadata": {},
   "outputs": [
    {
     "name": "stdout",
     "output_type": "stream",
     "text": [
      "1970 Let it Be The Beatless\n"
     ]
    }
   ],
   "source": [
    "# Validate Our Query\n",
    "query = \"select * from music_library\"\n",
    "try:\n",
    "    rows=session.execute(query)\n",
    "except Exception as e:\n",
    "    print(e)\n",
    "for row in rows:\n",
    "    print(row.year,row.album_name,row.artist_name)"
   ]
  },
  {
   "cell_type": "code",
   "execution_count": 27,
   "id": "f5aac839",
   "metadata": {},
   "outputs": [
    {
     "name": "stdout",
     "output_type": "stream",
     "text": [
      "1970 Let it Be The Beatless\n"
     ]
    }
   ],
   "source": [
    "# Validate Our Query\n",
    "query = \"select * from music_library where year=1970\"\n",
    "try:\n",
    "    rows=session.execute(query)\n",
    "except Exception as e:\n",
    "    print(e)\n",
    "for row in rows:\n",
    "    print(row.year,row.album_name,row.artist_name)"
   ]
  },
  {
   "cell_type": "code",
   "execution_count": 28,
   "id": "48283ca5",
   "metadata": {},
   "outputs": [],
   "source": [
    "# Drop Table\n",
    "query = \"drop table music_library\"\n",
    "\n",
    "try:\n",
    "    session.execute(query)\n",
    "except Exception as e:\n",
    "    print(e)"
   ]
  },
  {
   "cell_type": "code",
   "execution_count": 29,
   "id": "32f28424",
   "metadata": {},
   "outputs": [],
   "source": [
    "# ShutDown Session and Cluster Connections\n",
    "session.shutdown()\n",
    "cluster.shutdown()"
   ]
  }
 ],
 "metadata": {
  "kernelspec": {
   "display_name": "Python 3",
   "language": "python",
   "name": "python3"
  },
  "language_info": {
   "codemirror_mode": {
    "name": "ipython",
    "version": 3
   },
   "file_extension": ".py",
   "mimetype": "text/x-python",
   "name": "python",
   "nbconvert_exporter": "python",
   "pygments_lexer": "ipython3",
   "version": "3.8.8"
  }
 },
 "nbformat": 4,
 "nbformat_minor": 5
}
