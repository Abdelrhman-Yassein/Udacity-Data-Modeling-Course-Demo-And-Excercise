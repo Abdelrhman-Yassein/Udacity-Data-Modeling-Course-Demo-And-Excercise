{
 "cells": [
  {
   "cell_type": "markdown",
   "id": "5fbcf3b8",
   "metadata": {},
   "source": [
    "# Demo-0- PostgreSQL  And AutoCommit"
   ]
  },
  {
   "cell_type": "code",
   "execution_count": 2,
   "id": "6db51e60",
   "metadata": {},
   "outputs": [],
   "source": [
    "# Import PostgreSql Library\n",
    "import psycopg2 as ps"
   ]
  },
  {
   "cell_type": "code",
   "execution_count": 5,
   "id": "34c8ca78",
   "metadata": {},
   "outputs": [],
   "source": [
    "#create Connection to Udacity DataBase\n",
    "conn = ps.connect(\"host=127.0.0.1 dbname=udacity user=postgres password=postgre\")"
   ]
  },
  {
   "cell_type": "code",
   "execution_count": 6,
   "id": "d8ebcdb5",
   "metadata": {},
   "outputs": [],
   "source": [
    "# use the connection to get a cursor that will use to execute queries\n",
    "cur = conn.cursor()"
   ]
  },
  {
   "cell_type": "code",
   "execution_count": 8,
   "id": "0a6ce4da",
   "metadata": {},
   "outputs": [
    {
     "ename": "InFailedSqlTransaction",
     "evalue": "current transaction is aborted, commands ignored until end of transaction block\n",
     "output_type": "error",
     "traceback": [
      "\u001b[1;31m---------------------------------------------------------------------------\u001b[0m",
      "\u001b[1;31mInFailedSqlTransaction\u001b[0m                    Traceback (most recent call last)",
      "\u001b[1;32m<ipython-input-8-60b922124eb0>\u001b[0m in \u001b[0;36m<module>\u001b[1;34m\u001b[0m\n\u001b[0;32m      1\u001b[0m \u001b[1;31m#lers try run query\u001b[0m\u001b[1;33m\u001b[0m\u001b[1;33m\u001b[0m\u001b[1;33m\u001b[0m\u001b[0m\n\u001b[1;32m----> 2\u001b[1;33m \u001b[0mcur\u001b[0m\u001b[1;33m.\u001b[0m\u001b[0mexecute\u001b[0m\u001b[1;33m(\u001b[0m\u001b[1;34m\"select * from test123\"\u001b[0m\u001b[1;33m)\u001b[0m\u001b[1;33m\u001b[0m\u001b[1;33m\u001b[0m\u001b[0m\n\u001b[0m",
      "\u001b[1;31mInFailedSqlTransaction\u001b[0m: current transaction is aborted, commands ignored until end of transaction block\n"
     ]
    }
   ],
   "source": [
    "#lers try run query\n",
    "cur.execute(\"select * from test123\")"
   ]
  },
  {
   "cell_type": "code",
   "execution_count": 10,
   "id": "2f008e2f",
   "metadata": {},
   "outputs": [
    {
     "ename": "InFailedSqlTransaction",
     "evalue": "current transaction is aborted, commands ignored until end of transaction block\n",
     "output_type": "error",
     "traceback": [
      "\u001b[1;31m---------------------------------------------------------------------------\u001b[0m",
      "\u001b[1;31mInFailedSqlTransaction\u001b[0m                    Traceback (most recent call last)",
      "\u001b[1;32m<ipython-input-10-e1afb18d79d2>\u001b[0m in \u001b[0;36m<module>\u001b[1;34m\u001b[0m\n\u001b[0;32m      1\u001b[0m \u001b[1;31m#lets fix error by create table\u001b[0m\u001b[1;33m\u001b[0m\u001b[1;33m\u001b[0m\u001b[1;33m\u001b[0m\u001b[0m\n\u001b[1;32m----> 2\u001b[1;33m \u001b[0mcur\u001b[0m\u001b[1;33m.\u001b[0m\u001b[0mexecute\u001b[0m\u001b[1;33m(\u001b[0m\u001b[1;34m\"create table test123 (col1 int,col2 int,col3 int)\"\u001b[0m\u001b[1;33m)\u001b[0m\u001b[1;33m\u001b[0m\u001b[1;33m\u001b[0m\u001b[0m\n\u001b[0m",
      "\u001b[1;31mInFailedSqlTransaction\u001b[0m: current transaction is aborted, commands ignored until end of transaction block\n"
     ]
    }
   ],
   "source": [
    "#lets fix error by create table\n",
    "cur.execute(\"create table test123 (col1 int,col2 int,col3 int)\")"
   ]
  },
  {
   "cell_type": "code",
   "execution_count": 13,
   "id": "c2f31255",
   "metadata": {},
   "outputs": [],
   "source": [
    "#restart connection\n",
    "conn = ps.connect(\"host=127.0.0.1 dbname=udacity user=postgres password=postgre\")"
   ]
  },
  {
   "cell_type": "code",
   "execution_count": 14,
   "id": "c6f3e24d",
   "metadata": {},
   "outputs": [],
   "source": [
    "cur = conn.cursor()"
   ]
  },
  {
   "cell_type": "code",
   "execution_count": 15,
   "id": "a82645b2",
   "metadata": {},
   "outputs": [],
   "source": [
    "conn.set_session(autocommit=True)"
   ]
  },
  {
   "cell_type": "code",
   "execution_count": 16,
   "id": "7098fe7a",
   "metadata": {},
   "outputs": [
    {
     "ename": "UndefinedTable",
     "evalue": "relation \"test123\" does not exist\nLINE 1: select * from test123\n                      ^\n",
     "output_type": "error",
     "traceback": [
      "\u001b[1;31m---------------------------------------------------------------------------\u001b[0m",
      "\u001b[1;31mUndefinedTable\u001b[0m                            Traceback (most recent call last)",
      "\u001b[1;32m<ipython-input-16-2f894030edbd>\u001b[0m in \u001b[0;36m<module>\u001b[1;34m\u001b[0m\n\u001b[1;32m----> 1\u001b[1;33m \u001b[0mcur\u001b[0m\u001b[1;33m.\u001b[0m\u001b[0mexecute\u001b[0m\u001b[1;33m(\u001b[0m\u001b[1;34m\"select * from test123\"\u001b[0m\u001b[1;33m)\u001b[0m\u001b[1;33m\u001b[0m\u001b[1;33m\u001b[0m\u001b[0m\n\u001b[0m",
      "\u001b[1;31mUndefinedTable\u001b[0m: relation \"test123\" does not exist\nLINE 1: select * from test123\n                      ^\n"
     ]
    }
   ],
   "source": [
    "# test Select query\n",
    "cur.execute(\"select * from test123\")"
   ]
  },
  {
   "cell_type": "code",
   "execution_count": 18,
   "id": "aac21f60",
   "metadata": {},
   "outputs": [],
   "source": [
    "# Create Table For Test\n",
    "cur.execute(\"create table test123 (col1 int,col2 int,col3 int)\")"
   ]
  },
  {
   "cell_type": "code",
   "execution_count": 19,
   "id": "b2f0b246",
   "metadata": {},
   "outputs": [],
   "source": [
    "#select * from table \n",
    "cur.execute(\"select * from test123\")"
   ]
  },
  {
   "cell_type": "code",
   "execution_count": 20,
   "id": "ac227cd4",
   "metadata": {},
   "outputs": [
    {
     "name": "stdout",
     "output_type": "stream",
     "text": [
      "[(0,)]\n"
     ]
    }
   ],
   "source": [
    "#Select count * from test Table\n",
    "cur.execute(\"select count(*) from test123\")\n",
    "print(cur.fetchall())"
   ]
  },
  {
   "cell_type": "code",
   "execution_count": 21,
   "id": "f604a782",
   "metadata": {},
   "outputs": [],
   "source": [
    "#Drop Table\n",
    "cur.execute(\"drop table test123\")"
   ]
  },
  {
   "cell_type": "code",
   "execution_count": 22,
   "id": "d4330983",
   "metadata": {},
   "outputs": [],
   "source": [
    "#Close All Connection\n",
    "conn.close()\n",
    "cur.close()"
   ]
  }
 ],
 "metadata": {
  "kernelspec": {
   "display_name": "Python 3",
   "language": "python",
   "name": "python3"
  },
  "language_info": {
   "codemirror_mode": {
    "name": "ipython",
    "version": 3
   },
   "file_extension": ".py",
   "mimetype": "text/x-python",
   "name": "python",
   "nbconvert_exporter": "python",
   "pygments_lexer": "ipython3",
   "version": "3.8.8"
  }
 },
 "nbformat": 4,
 "nbformat_minor": 5
}
